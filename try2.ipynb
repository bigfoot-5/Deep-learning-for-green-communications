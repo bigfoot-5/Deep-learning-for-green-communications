{
    "cells": [
        {
            "cell_type": "code",
            "execution_count": 14,
            "metadata": {},
            "outputs": [],
            "source": [
                "import pandas as pd\n",
                "import numpy as np\n",
                "from sklearn import linear_model\n",
                "import pandas as pd\n",
                "import numpy as np\n",
                "from sklearn import linear_model\n",
                "from sklearn.model_selection import train_test_split\n",
                "from sklearn.metrics import r2_score\n",
                "from sklearn.linear_model import LinearRegression\n",
                "from sklearn.tree import DecisionTreeRegressor\n",
                "from sklearn.ensemble import RandomForestRegressor\n",
                "from sklearn.svm import SVR"
            ]
        },
        {
            "cell_type": "code",
            "execution_count": 15,
            "metadata": {},
            "outputs": [
                {
                    "data": {
                        "text/html": [
                            "<div>\n",
                            "<style scoped>\n",
                            "    .dataframe tbody tr th:only-of-type {\n",
                            "        vertical-align: middle;\n",
                            "    }\n",
                            "\n",
                            "    .dataframe tbody tr th {\n",
                            "        vertical-align: top;\n",
                            "    }\n",
                            "\n",
                            "    .dataframe thead th {\n",
                            "        text-align: right;\n",
                            "    }\n",
                            "</style>\n",
                            "<table border=\"1\" class=\"dataframe\">\n",
                            "  <thead>\n",
                            "    <tr style=\"text-align: right;\">\n",
                            "      <th></th>\n",
                            "      <th>Real Part of Output</th>\n",
                            "      <th>Imag Part of Output</th>\n",
                            "      <th>Real Part of Input</th>\n",
                            "      <th>Imag Part of Input</th>\n",
                            "    </tr>\n",
                            "  </thead>\n",
                            "  <tbody>\n",
                            "    <tr>\n",
                            "      <th>0</th>\n",
                            "      <td>0.770811</td>\n",
                            "      <td>-0.250749</td>\n",
                            "      <td>0.280737</td>\n",
                            "      <td>-0.427208</td>\n",
                            "    </tr>\n",
                            "    <tr>\n",
                            "      <th>1</th>\n",
                            "      <td>0.627422</td>\n",
                            "      <td>0.244178</td>\n",
                            "      <td>0.385676</td>\n",
                            "      <td>-0.032750</td>\n",
                            "    </tr>\n",
                            "    <tr>\n",
                            "      <th>2</th>\n",
                            "      <td>-0.024803</td>\n",
                            "      <td>0.609490</td>\n",
                            "      <td>0.110913</td>\n",
                            "      <td>0.321741</td>\n",
                            "    </tr>\n",
                            "    <tr>\n",
                            "      <th>3</th>\n",
                            "      <td>-0.764049</td>\n",
                            "      <td>0.041161</td>\n",
                            "      <td>-0.370705</td>\n",
                            "      <td>0.281494</td>\n",
                            "    </tr>\n",
                            "    <tr>\n",
                            "      <th>4</th>\n",
                            "      <td>-0.366071</td>\n",
                            "      <td>-0.816991</td>\n",
                            "      <td>-0.591695</td>\n",
                            "      <td>-0.182893</td>\n",
                            "    </tr>\n",
                            "    <tr>\n",
                            "      <th>5</th>\n",
                            "      <td>0.460895</td>\n",
                            "      <td>-0.806998</td>\n",
                            "      <td>-0.275329</td>\n",
                            "      <td>-0.620378</td>\n",
                            "    </tr>\n",
                            "    <tr>\n",
                            "      <th>6</th>\n",
                            "      <td>0.854696</td>\n",
                            "      <td>-0.237005</td>\n",
                            "      <td>0.274683</td>\n",
                            "      <td>-0.540981</td>\n",
                            "    </tr>\n",
                            "    <tr>\n",
                            "      <th>7</th>\n",
                            "      <td>0.639774</td>\n",
                            "      <td>0.390446</td>\n",
                            "      <td>0.450857</td>\n",
                            "      <td>-0.009959</td>\n",
                            "    </tr>\n",
                            "    <tr>\n",
                            "      <th>8</th>\n",
                            "      <td>-0.195415</td>\n",
                            "      <td>0.628760</td>\n",
                            "      <td>0.050241</td>\n",
                            "      <td>0.372302</td>\n",
                            "    </tr>\n",
                            "    <tr>\n",
                            "      <th>9</th>\n",
                            "      <td>-0.754280</td>\n",
                            "      <td>-0.210196</td>\n",
                            "      <td>-0.452800</td>\n",
                            "      <td>0.167397</td>\n",
                            "    </tr>\n",
                            "  </tbody>\n",
                            "</table>\n",
                            "</div>"
                        ],
                        "text/plain": [
                            "   Real Part of Output  Imag Part of Output  Real Part of Input  \\\n",
                            "0             0.770811            -0.250749            0.280737   \n",
                            "1             0.627422             0.244178            0.385676   \n",
                            "2            -0.024803             0.609490            0.110913   \n",
                            "3            -0.764049             0.041161           -0.370705   \n",
                            "4            -0.366071            -0.816991           -0.591695   \n",
                            "5             0.460895            -0.806998           -0.275329   \n",
                            "6             0.854696            -0.237005            0.274683   \n",
                            "7             0.639774             0.390446            0.450857   \n",
                            "8            -0.195415             0.628760            0.050241   \n",
                            "9            -0.754280            -0.210196           -0.452800   \n",
                            "\n",
                            "   Imag Part of Input  \n",
                            "0           -0.427208  \n",
                            "1           -0.032750  \n",
                            "2            0.321741  \n",
                            "3            0.281494  \n",
                            "4           -0.182893  \n",
                            "5           -0.620378  \n",
                            "6           -0.540981  \n",
                            "7           -0.009959  \n",
                            "8            0.372302  \n",
                            "9            0.167397  "
                        ]
                    },
                    "execution_count": 15,
                    "metadata": {},
                    "output_type": "execute_result"
                }
            ],
            "source": [
                "# import data\n",
                "data = pd.read_csv(\"merged.csv\")\n",
                "# Drop first column of dataframe\n",
                "data = data.iloc[: , 1:]\n",
                "df = data\n",
                "#Rearranging columns of the dataset\n",
                "df = df[['Real Part of Output', 'Imag Part of Output', 'Real Part of Input', 'Imag Part of Input']]\n",
                "#Viewing the first 10 rows of the dataset\n",
                "df.head(10)"
            ]
        },
        {
            "cell_type": "code",
            "execution_count": 16,
            "metadata": {},
            "outputs": [
                {
                    "name": "stdout",
                    "output_type": "stream",
                    "text": [
                        "Size of data =  16384000\n"
                    ]
                }
            ],
            "source": [
                "#size of data\n",
                "print(\"Size of data = \", df.size)"
            ]
        },
        {
            "cell_type": "code",
            "execution_count": 17,
            "metadata": {},
            "outputs": [],
            "source": [
                "# select data for modeling\n",
                "X = df[[\"Real Part of Output\", \"Imag Part of Output\"]]\n",
                "y = df[[\"Real Part of Input\", \"Imag Part of Input\"]]"
            ]
        },
        {
            "cell_type": "code",
            "execution_count": 18,
            "metadata": {},
            "outputs": [],
            "source": [
                "# split data into train and test\n",
                "X_train, X_test, y_train, y_test = train_test_split(X, y, test_size = 0.3, random_state = 0)"
            ]
        },
        {
            "cell_type": "code",
            "execution_count": 19,
            "metadata": {},
            "outputs": [
                {
                    "name": "stdout",
                    "output_type": "stream",
                    "text": [
                        "X_train size =  5734400\n",
                        "y_train size =  5734400\n",
                        "X_test size =  2457600\n",
                        "y_test size =  2457600\n"
                    ]
                }
            ],
            "source": [
                "#Viewing sizes of split datasets\n",
                "print(\"X_train size = \",X_train.size)\n",
                "print(\"y_train size = \",y_train.size)\n",
                "print(\"X_test size = \",X_test.size)\n",
                "print(\"y_test size = \",y_test.size)"
            ]
        },
        {
            "cell_type": "code",
            "execution_count": 22,
            "metadata": {},
            "outputs": [],
            "source": [
                "# instantiate \n",
                "model = LinearRegression()\n",
                "tree_reg = DecisionTreeRegressor(random_state=42)\n",
                "forest_reg = RandomForestRegressor(n_estimators=100, random_state=42)\n",
                "# svm_reg = SVR(kernel=\"linear\")\n",
                "# fit\n",
                "model.fit(X_train, y_train)\n",
                "tree_reg.fit(X_train, y_train)\n",
                "forest_reg.fit(X_train, y_train)\n",
                "# svm_reg.fit(X_train, y_train)\n",
                "# predict\n",
                "y_pred = model.predict(X_test)\n",
                "y_pred_tree = tree_reg.predict(X_test)\n",
                "y_pred_forest = forest_reg.predict(X_test)\n",
                "# y_pred_svm = svm_reg.predict(X_test)\n"
            ]
        },
        {
            "cell_type": "code",
            "execution_count": 23,
            "metadata": {},
            "outputs": [
                {
                    "name": "stdout",
                    "output_type": "stream",
                    "text": [
                        "0.867057499644881\n",
                        "0.9827516534970749\n",
                        "0.9899525947348511\n"
                    ]
                }
            ],
            "source": [
                "# model evaluation\n",
                "score = r2_score(y_test, y_pred)\n",
                "score2 = r2_score(y_test, y_pred_tree)\n",
                "score3 = r2_score(y_test, y_pred_forest)\n",
                "# score4 = r2_score(y_test, y_pred_svm)\n",
                "print(score)\n",
                "print(score2)\n",
                "print(score3)\n",
                "# print(score4)"
            ]
        },
        {
            "cell_type": "code",
            "execution_count": null,
            "metadata": {},
            "outputs": [],
            "source": []
        }
    ],
    "metadata": {
        "interpreter": {
            "hash": "916dbcbb3f70747c44a77c7bcd40155683ae19c65e1c03b4aa3499c5328201f1"
        },
        "kernelspec": {
            "display_name": "Python 3.9 (tensorflow)",
            "language": "python",
            "name": "tensorflow"
        },
        "language_info": {
            "codemirror_mode": {
                "name": "ipython",
                "version": 3
            },
            "file_extension": ".py",
            "mimetype": "text/x-python",
            "name": "python",
            "nbconvert_exporter": "python",
            "pygments_lexer": "ipython3",
            "version": "3.9.7"
        },
        "orig_nbformat": 4
    },
    "nbformat": 4,
    "nbformat_minor": 2
}
